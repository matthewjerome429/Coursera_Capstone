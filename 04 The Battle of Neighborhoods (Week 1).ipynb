{
 "cells": [
  {
   "cell_type": "markdown",
   "metadata": {},
   "source": [
    "<h1>Capstone Project - The Battle of Neighborhoods in Toyko (Week 1)</h1>"
   ]
  },
  {
   "cell_type": "markdown",
   "metadata": {},
   "source": [
    "<h2>1. Introduction</h2>"
   ]
  },
  {
   "cell_type": "markdown",
   "metadata": {},
   "source": [
    "The business problem we are currently posing is: Ahead of the Tokyo 2020 Summer Olympic and Paralympics Games, how could we provide support to different visitors to list and visualize Tokyo districts that fit their needs in term of culinary/ food venues.\n",
    "\n",
    "With nearly 44 million inhabitants and the highest metropolitan GDP in the world, an estimated 600,000 overseas visitors are expected to flock to the Japanese capital and surrounding regions to attend this upcoming event.\n",
    "Tokyo is well-known as the restaurant capital of the world, with over 160,000 places to choose from around it’s 23 districts.\n",
    "\n",
    "I believe it’s difficult for a travelers, especially restaurant-goers, to make a choice from among many options since there is also too much information on the web because everybody’s got their own take of where to go and it’s all so fragmented that you have to assemble it yourself especially if you’re wanting non-touristy recommendations.\n",
    "\n",
    "So, how could we leverage Foursquare location data and machine learning to help us make decision and find appropriate neighborhoods? This is the problem I would like to address in this capstone project taking Tokyo as an example. In this project, I am going to use Foursquare location data and clustering methods to group the districts to different group by their restaurant venues information."
   ]
  },
  {
   "cell_type": "markdown",
   "metadata": {},
   "source": [
    "<h2>2. Data Requirement</h2>"
   ]
  },
  {
   "cell_type": "markdown",
   "metadata": {},
   "source": [
    "For this project we need following data:\n",
    "- Tokyo data that contains list districts (Wards) along with their latitude and longitude.\n",
    "Datasource : https://en.wikipedia.org/wiki/Special_wards_of_Tokyo#List_ of_special_wards\n",
    "Description: We will Scrap Tokyo districts (Wards) Table from Wikipedia and get the coordinates of these 23 major districts using geocoder class of Geopy client.\n",
    "- Restaurants in each neighborhood of Tokyo:\n",
    "Data source: Foursquare APIs\n",
    "Description : By using this API we will get all the venues in each neighborhood. We can filter these venues to get only restaurants."
   ]
  }
 ],
 "metadata": {
  "kernelspec": {
   "display_name": "Python 3",
   "language": "python",
   "name": "python3"
  },
  "language_info": {
   "codemirror_mode": {
    "name": "ipython",
    "version": 3
   },
   "file_extension": ".py",
   "mimetype": "text/x-python",
   "name": "python",
   "nbconvert_exporter": "python",
   "pygments_lexer": "ipython3",
   "version": "3.8.3"
  }
 },
 "nbformat": 4,
 "nbformat_minor": 4
}
